{
 "cells": [
  {
   "cell_type": "code",
   "execution_count": 2,
   "metadata": {},
   "outputs": [
    {
     "name": "stdout",
     "output_type": "stream",
     "text": [
      "name: sanjay karishetter\n",
      "age: 20\n",
      "adress: hubli,nekarnagra,karanataka\n",
      "IDNO:257587\n"
     ]
    }
   ],
   "source": [
    "\n",
    "#personal details  \n",
    "\n",
    "def personaldetails():\n",
    "    name = \"sanjay karishetter\"\n",
    "    age =\"20\"\n",
    "    adress = \"hubli,nekarnagra,karanataka\"\n",
    "    IDNO=\"257587\"\n",
    "    print(\"name: {}\\nage: {}\\nadress: {}\\nIDNO:{}\".format(name,age,adress,IDNO))\n",
    "    \n",
    "personaldetails()"
   ]
  },
  {
   "cell_type": "code",
   "execution_count": 5,
   "metadata": {},
   "outputs": [
    {
     "name": "stdout",
     "output_type": "stream",
     "text": [
      "thereare many types of Bird.\n",
      "most of the bird can fly but some cannot.\n",
      "thereare many types of Bird.\n",
      "sparrows can fly.\n",
      "thereare many types of Bird.\n",
      "ostriches cannot fly.\n"
     ]
    }
   ],
   "source": [
    "class Bird:\n",
    "    def intro(self):\n",
    "        print(\"thereare many types of Bird.\")\n",
    "        \n",
    "    def flight(self):\n",
    "        print(\"most of the bird can fly but some cannot.\")\n",
    "        \n",
    "class sparrow(Bird):\n",
    "    def flight(self):\n",
    "        print(\"sparrows can fly.\")\n",
    "\n",
    "class ostrich(Bird):\n",
    "    def flight(self):\n",
    "        print(\"ostriches cannot fly.\")\n",
    "\n",
    "\n",
    "obj_bird = Bird()\n",
    "obj_spr = sparrow()\n",
    "obj_ost = ostrich()\n",
    "\n",
    "obj_bird.intro()\n",
    "obj_bird.flight()\n",
    "\n",
    "obj_spr.intro()\n",
    "obj_spr.flight()\n",
    "\n",
    "obj_ost.intro()\n",
    "obj_ost.flight()"
   ]
  },
  {
   "cell_type": "code",
   "execution_count": 29,
   "metadata": {},
   "outputs": [
    {
     "name": "stdout",
     "output_type": "stream",
     "text": [
      "new delhi is capital of india.\n",
      "hindi is most widley spoken language of india.\n",
      "india is a developing country.\n",
      "washington, D.C is the capital of USA.\n",
      "english is the primary language of USA.\n",
      "USA is a development country.\n"
     ]
    }
   ],
   "source": [
    "class India():\n",
    "    def capital(self):\n",
    "        print(\"new delhi is capital of india.\")\n",
    "        \n",
    "    def language(self):\n",
    "        print(\"hindi is most widley spoken language of india.\")\n",
    "        \n",
    "    def type(self):\n",
    "        print(\"india is a developing country.\")\n",
    "        \n",
    "class USA():\n",
    "    \n",
    "    def capital(self):\n",
    "        print(\"washington, D.C is the capital of USA.\")\n",
    "        \n",
    "    def language(self):\n",
    "        print(\"english is the primary language of USA.\")\n",
    "        \n",
    "    def type(selF):\n",
    "        print(\"USA is a development country.\")\n",
    "        \n",
    "obj=India()\n",
    "\n",
    "obj.capital()\n",
    "obj.language()\n",
    "obj.type()\n",
    "\n",
    "obj=USA()\n",
    "obj.capital()\n",
    "obj.language()\n",
    "obj.type()\n",
    "\n",
    "\n",
    "\n",
    "\n",
    "\n",
    "\n"
   ]
  },
  {
   "cell_type": "code",
   "execution_count": 57,
   "metadata": {},
   "outputs": [
    {
     "name": "stdout",
     "output_type": "stream",
     "text": [
      "name: {sanjay}\n",
      "destination: {electrical}\n",
      "salary:{25000} \n",
      "name:{suswit}\n",
      "destination:{electronics}\n",
      "salary{25000}\n"
     ]
    }
   ],
   "source": [
    "class Electricalengineer():\n",
    "    name=(\"\")\n",
    "    destination=(\"\")\n",
    "    salary=(\"\")\n",
    "    def jobrol(self):\n",
    "        print(\"name: {sanjay}\\ndestination: {electrical}\\nsalary:{25000} \")\n",
    "    \n",
    "    \n",
    "class electronicsengineer():\n",
    "    name=(\"\")\n",
    "    destination=(\"\")\n",
    "    salary=(\"\")\n",
    "    def jobrol(self):\n",
    "        print(\"name:{suswit}\\ndestination:{electronics}\\nsalary{25000}\")\n",
    "        \n",
    "def init(self):\n",
    "        pass\n",
    "obj=Electricalengineer()\n",
    "obj.jobrol()\n",
    "\n",
    "def init(self):\n",
    "        pass\n",
    "obj=electronicsengineer()\n",
    "obj.jobrol()\n",
    "\n"
   ]
  },
  {
   "cell_type": "code",
   "execution_count": 66,
   "metadata": {},
   "outputs": [
    {
     "name": "stdout",
     "output_type": "stream",
     "text": [
      "1.9148542155126762\n"
     ]
    }
   ],
   "source": [
    "import math\n",
    "print(math.sqrt(11/3))"
   ]
  },
  {
   "cell_type": "code",
   "execution_count": 1,
   "metadata": {},
   "outputs": [
    {
     "ename": "SyntaxError",
     "evalue": "keyword argument repeated: df (868630212.py, line 14)",
     "output_type": "error",
     "traceback": [
      "\u001b[1;36m  Cell \u001b[1;32mIn[1], line 14\u001b[1;36m\u001b[0m\n\u001b[1;33m    plt.bar(df={\"name\"},df={\"age\"},df={\"rollnumber\"})\u001b[0m\n\u001b[1;37m                        ^\u001b[0m\n\u001b[1;31mSyntaxError\u001b[0m\u001b[1;31m:\u001b[0m keyword argument repeated: df\n"
     ]
    },
    {
     "data": {
      "image/png": "[encoded data removed]",
      "text/plain": [
       "<Figure size 640x480 with 1 Axes>"
      ]
     },
     "metadata": {},
     "output_type": "display_data"
    }
   ],
   "source": [
    "import pandas as pd \n",
    "import matplotlib.pyplot as plt\n",
    "data= [['sanjay',31,123],\n",
    "    ['suswit',32,223],\n",
    "    ['shankar',33,224],\n",
    "    ['gurav',34,225],\n",
    "    ['kiran',35,226],\n",
    "    ['mahesh',36,227],\n",
    "    ['manju',37,228]]\n",
    "\n",
    "\n",
    "df=pd.DataFrame(data,columns=[\"name\",\"age\",\"rollnumber\"])\n",
    "df.plot.bar()\n",
    "plt.bar(df={\"name\"},df={\"age\"},df={\"rollnumber\"})\n",
    "plt.xlabel(\"name\")\n",
    "plt.ylabel(\"rollnumber\")\n",
    "#plot.xlabel(\"rollnumber\")\n",
    "#plot.xlabel(\"age\")\n",
    "plt.show()\n"
   ]
  },
  {
   "cell_type": "code",
   "execution_count": 8,
   "metadata": {},
   "outputs": [
    {
     "name": "stdout",
     "output_type": "stream",
     "text": [
      "name:{sanjay}\n",
      "age:{20}\n",
      "salary{20000}\n"
     ]
    }
   ],
   "source": [
    "#employ list \n",
    "\n",
    "class  electrical():\n",
    "    name=(\"\")\n",
    "    age=(\"\")\n",
    "    salary=(\"\")\n",
    "    def jobroll(self):\n",
    "        print(\"name:{sanjay}\\nage:{20}\\nsalary{20000}\")\n",
    "        \n",
    "    def init(self):\n",
    "            pass\n",
    "        \n",
    "obj=electrical()\n",
    "obj.jobroll()\n",
    "        \n"
   ]
  },
  {
   "cell_type": "code",
   "execution_count": 24,
   "metadata": {},
   "outputs": [
    {
     "ename": "SyntaxError",
     "evalue": "invalid syntax (1817200278.py, line 5)",
     "output_type": "error",
     "traceback": [
      "\u001b[1;36m  Cell \u001b[1;32mIn[24], line 5\u001b[1;36m\u001b[0m\n\u001b[1;33m    square_num = list (map (lambda x= x ** 2 ) list )\u001b[0m\n\u001b[1;37m                                             ^\u001b[0m\n\u001b[1;31mSyntaxError\u001b[0m\u001b[1;31m:\u001b[0m invalid syntax\n"
     ]
    }
   ],
   "source": [
    "num=[1,2,3,4,5,6,7,8,9]\n",
    "print(\"original list of intgere:\")\n",
    "print(num)\n",
    "print(\"\\nsquare every number of the said list:\")\n",
    "square_num = list (map (lambda x= x ** 2 ) list )\n",
    "print(square_num)\n",
    "\n"
   ]
  },
  {
   "cell_type": "code",
   "execution_count": 32,
   "metadata": {},
   "outputs": [
    {
     "name": "stdout",
     "output_type": "stream",
     "text": [
      "\n",
      " electricity bill=450.00\n",
      "name:{sanjay}\n",
      "adress:{nekar nager}\n",
      "rrno:{257587}\n",
      "\n",
      " susmit=1500.00\n",
      "name:{susmit}\n",
      "rrno:{12345}\n",
      "adress:{Gokanakoppa}\n"
     ]
    }
   ],
   "source": [
    "# electricall bill \n",
    "class electricalbill():\n",
    "    rrno=[257587,[12345]]\n",
    "    unit=int(input(\"enter the rrno\"))\n",
    "    def  jobroll(self):\n",
    "        print(\"name:{sanjay}/nadress:{nelarnagar}/nrrno:{257587}\")\n",
    "\n",
    "units=int(input(\"plese enter the number of units of consumed in a mounth \"))\n",
    "if(units<=100):\n",
    "    payamount=units*1.5\n",
    "    fixedcharge=25.00\n",
    "elif(units<=200):\n",
    "    payamount=(100*1.5)+(units-100)*2.5\n",
    "    fixedcharge=50.00\n",
    "elif(units<=300):\n",
    "    payamount=(100*1.5)+(200-100)*2.5+(units-200)*4\n",
    "    fixedcharge=75.00\n",
    "elif(units<=350):\n",
    "    payamount=(100*1.5)+(200-100)*2.5+(300-200)*4+(units-300)*5\n",
    "    fixedcharge=100.00\n",
    "else:\n",
    "    \n",
    "    payamount=0\n",
    "    fixedcharge=1500.00\n",
    "total=payamount+fixedcharge;\n",
    "print(\"\\n electricity bill=%.2F\"%total)\n",
    "print(\"name:{sanjay}\\nadress:{nekar nager}\\nrrno:{257587}\")\n",
    "\n",
    "\n",
    "class susmit():\n",
    "    rrno=(\"\")\n",
    "    unit=int(input(\"enter the rrno\"))\n",
    "    def jobroll(self):\n",
    "        print(\"name:{susmit}\\nrrno:{12345}\\nadress:{gokanakoppa}\")\n",
    "units=int(input(\"plese enter the number of units of consumed in a mounth \"))\n",
    "if(units<=100):\n",
    "    payamount=units*1.5\n",
    "    fixedcharge=25.00\n",
    "elif(units<=200):\n",
    "    payamount=(100*1.5)+(units-100)*2.5\n",
    "    fixedcharge=50.00\n",
    "elif(units<=300):\n",
    "    payamount=(100*1.5)+(200-100)*2.5+(units-200)*4\n",
    "    fixedcharge=75.00\n",
    "elif(units<=350):\n",
    "    payamount=(100*1.5)+(200-100)*2.5+(300-200)*4+(units-300)*5\n",
    "    fixedcharge=100.00\n",
    "else:\n",
    "    \n",
    "    payamount=0\n",
    "    fixedcharge=1500.00\n",
    "total=payamount+fixedcharge;\n",
    "print(\"\\n susmit=%.2F\"%total)\n",
    "print(\"name:{susmit}\\nrrno:{12345}\\nadress:{Gokanakoppa}\")\n"
   ]
  },
  {
   "cell_type": "code",
   "execution_count": null,
   "metadata": {},
   "outputs": [],
   "source": [
    "#  bus ticket \n",
    "\n",
    "class KSRTC():\n",
    "    city=(\"hubli\")\n",
    "    date=(\"29/5/23\")\n",
    "    def jobroll(self):\n",
    "        print(\"city:{}\\ndate:{}\")\n",
    "unit=init(input(\"enter the were the were\"))\n",
    "if(bus<=oldhubli):\n",
    "    \n",
    "    "
   ]
  }
 ],
 "metadata": {
  "kernelspec": {
   "display_name": "Python 3",
   "language": "python",
   "name": "python3"
  },
  "language_info": {
   "codemirror_mode": {
    "name": "ipython",
    "version": 3
   },
   "file_extension": ".py",
   "mimetype": "text/x-python",
   "name": "python",
   "nbconvert_exporter": "python",
   "pygments_lexer": "ipython3",
   "version": "3.10.9"
  },
  "orig_nbformat": 4
 },
 "nbformat": 4,
 "nbformat_minor": 2
}
