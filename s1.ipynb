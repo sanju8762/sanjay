{
 "cells": [
  {
   "cell_type": "code",
   "execution_count": 2,
   "metadata": {},
   "outputs": [
    {
     "name": "stdout",
     "output_type": "stream",
     "text": [
      "name: sanjay karishetter\n",
      "age: 20\n",
      "adress: hubli,nekarnagra,karanataka\n",
      "IDNO:257587\n"
     ]
    }
   ],
   "source": [
    "\n",
    "#personal details  \n",
    "\n",
    "def personaldetails():\n",
    "    name = \"sanjay karishetter\"\n",
    "    age =\"20\"\n",
    "    adress = \"hubli,nekarnagra,karanataka\"\n",
    "    IDNO=\"257587\"\n",
    "    print(\"name: {}\\nage: {}\\nadress: {}\\nIDNO:{}\".format(name,age,adress,IDNO))\n",
    "    \n",
    "personaldetails()"
   ]
  },
  {
   "cell_type": "code",
   "execution_count": null,
   "metadata": {},
   "outputs": [],
   "source": []
  }
 ],
 "metadata": {
  "kernelspec": {
   "display_name": "Python 3",
   "language": "python",
   "name": "python3"
  },
  "language_info": {
   "codemirror_mode": {
    "name": "ipython",
    "version": 3
   },
   "file_extension": ".py",
   "mimetype": "text/x-python",
   "name": "python",
   "nbconvert_exporter": "python",
   "pygments_lexer": "ipython3",
   "version": "3.10.9"
  },
  "orig_nbformat": 4
 },
 "nbformat": 4,
 "nbformat_minor": 2
}
